{
    "metadata": {
        "kernelspec": {
            "name": "SQL",
            "display_name": "SQL",
            "language": "sql"
        },
        "language_info": {
            "name": "sql",
            "version": ""
        }
    },
    "nbformat_minor": 2,
    "nbformat": 4,
    "cells": [
        {
            "cell_type": "markdown",
            "source": [
                "# Azure Data Studio - Way Cool for Applications\r\n",
                "\r\n",
                "![image](https://user-images.githubusercontent.com/24569174/82087815-db92b900-96be-11ea-959e-8d053dccf1c4.png)\r\n",
                "## ADS Basics\r\n",
                "- **Not** just for Azure or the cloud\r\n",
                "- **Not** currently a replacement for SSMS\r\n",
                "- Fork of VS Code: https://github.com/microsoft/vscode\r\n",
                "- Open Source: https://github.com/microsoft/azuredatastudio\r\n",
                "- Cross Platform (Windows/Linux/MacOS)\r\n",
                "- Multi-Database (SQL Server, PostgreSQL) - On the way (mySQL, MariaDB)\r\n",
                "\r\n",
                "## Primary Features\r\n",
                "- Database Management / Querying / Visualizations\r\n",
                "- Code Editing (SQL, PowerShell, Python & more)\r\n",
                "- Snippet based code re-use (Predefined and User Customizable)\r\n",
                "- Juypter Notebooks (Markdown Text, Code, Query Results)\r\n",
                "- Integrated Terminal\r\n",
                "- Built-in Source Control (Git, TFS)\r\n",
                "- Big Data Clusters\r\n",
                "- Extensions Marketplace\r\n",
                "- Single Application Experience (Key Departure from SSMS)\r\n",
                "\r\n",
                ""
            ],
            "metadata": {
                "azdata_cell_guid": "fd5f7ce9-ab69-495e-9b6e-de44f0c46f10"
            }
        }
    ]
}