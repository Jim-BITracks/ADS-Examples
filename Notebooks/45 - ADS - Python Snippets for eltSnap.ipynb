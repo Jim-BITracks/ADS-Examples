{
    "metadata": {
        "kernelspec": {
            "name": "python3",
            "display_name": "Python 3"
        },
        "language_info": {
            "name": "python",
            "version": "3.8.1",
            "mimetype": "text/x-python",
            "codemirror_mode": {
                "name": "ipython",
                "version": 3
            },
            "pygments_lexer": "ipython3",
            "nbconvert_exporter": "python",
            "file_extension": ".py"
        }
    },
    "nbformat_minor": 2,
    "nbformat": 4,
    "cells": [
        {
            "cell_type": "markdown",
            "source": [
                "# Python Snippets for eltSnap\r\n",
                "## Create a Project\r\n",
                "> Called: SQL Saturday"
            ],
            "metadata": {
                "azdata_cell_guid": "79eeb103-9641-47c9-af7e-a90ace31b135"
            }
        },
        {
            "cell_type": "code",
            "source": [
                "from eltsnap.eltProject import *\n",
                "create_project('PC7', 'eltsnap_v2', 'SQL Saturday', 'Framework Logging')"
            ],
            "metadata": {
                "azdata_cell_guid": "4987ba90-035d-47cd-bb26-4eb22267dde3"
            },
            "outputs": [],
            "execution_count": null
        },
        {
            "cell_type": "markdown",
            "source": [
                "## Create a Connection\r\n",
                "\r\n",
                ">Called: 'sql_sat_demo'\r\n",
                ""
            ],
            "metadata": {
                "azdata_cell_guid": "924abc4d-20ad-45c8-a4de-519fac680c67"
            }
        },
        {
            "cell_type": "code",
            "source": [
                "conn"
            ],
            "metadata": {
                "azdata_cell_guid": "053aca2d-77e9-4633-8c74-232db083c046"
            },
            "outputs": [],
            "execution_count": null
        },
        {
            "cell_type": "markdown",
            "source": [
                "> ## Edit Connections and Parameters using ADS 'Forms' Extension for eltSnap"
            ],
            "metadata": {
                "azdata_cell_guid": "0ef01ba3-d698-40e8-a59d-a82163aa0dc7"
            }
        },
        {
            "cell_type": "markdown",
            "source": [
                "## Refresh HTML Document"
            ],
            "metadata": {
                "azdata_cell_guid": "77945aa3-29f1-4573-a4ab-3354795e3da2"
            }
        },
        {
            "cell_type": "code",
            "source": [
                "from eltsnap.eltProject import *\r\n",
                "generate_html_report('PC7', 'eltsnap_v2')"
            ],
            "metadata": {
                "azdata_cell_guid": "4500094e-4391-4b66-b6d7-cb5eede0e22c",
                "tags": []
            },
            "outputs": [
                {
                    "name": "stdout",
                    "text": "The HTML file destination is on the location : C:\\snap\\html\\eltSnap_Project_HTML.html\n  project_id  project_name                   build_template_group\n------------  -----------------------------  ----------------------\n           5  Log Clean-up                   Framework Logging\n           1  Metadata Refresh               Framework Logging\n           4  Metadata Refresh (AzureSQL)    Framework Logging\n           3  Metadata Refresh (PostgreSQL)  Framework Logging\n           2  Metadata Refresh (Snowflake)   Framework Logging\n        1009  SQL Saturday                   Framework Logging\n        1006  SQL_SAT                        Framework Logging\n        1007  test1                          Framework Logging\n        1008  test2                          No Alert\n        1010  test5                          Framework Logging\n        1011  test8                          No Alert\n",
                    "output_type": "stream"
                }
            ],
            "execution_count": 1
        },
        {
            "cell_type": "code",
            "source": [
                "from eltsnap.eltProject import *\r\n",
                "change_project_template('PC7', 'eltsnap_v2', 'Log Clean-up', 'Framework Logging')"
            ],
            "metadata": {
                "azdata_cell_guid": "2026a3ca-e60f-41e3-88d8-698b3618e1ed"
            },
            "outputs": [],
            "execution_count": null
        }
    ]
}