{
    "metadata": {
        "kernelspec": {
            "name": "SQL",
            "display_name": "SQL",
            "language": "sql"
        },
        "language_info": {
            "name": "sql",
            "version": ""
        }
    },
    "nbformat_minor": 2,
    "nbformat": 4,
    "cells": [
        {
            "cell_type": "markdown",
            "source": [
                "![image](https://user-images.githubusercontent.com/24569174/82096113-5e6f4000-96ce-11ea-8726-58e13113a079.png)\r\n",
                "\r\n",
                "![image](https://user-images.githubusercontent.com/24569174/82095939-13edc380-96ce-11ea-981d-1308db90b9c9.png)\r\n",
                "\r\n",
                "## What I've been doing...\r\n",
                "Jim has worked in many facets of the IT business for almost 40 years, with a more recent focus on data warehousing, data integration, reporting and analytics, business intelligence, ELT/ETL frameworks, and database performance tuning. In previous engagements, Jim has fulfilled roles as Data Architect, DBA, IT Director, and Senior Consultant. Jim has also had some extraordinary opportunities to lead IT organizations, with multi-national participants, on reconstruction projects based in Bosnia as part of the Dayton Peace Agreement, and in Iraq with the US Department of State.\r\n",
                "\r\n",
                "Specialties: ELT/ETL Development - Powered by EltSnap/BimlSnap (www.bitracks.com), Microsoft SQL Server, and the snowflake cloud data warehouse platform \r\n",
                "\r\n",
                "## Website: [BI Tracks](https://www.bitracks.com/)\r\n",
                "\r\n",
                ""
            ],
            "metadata": {
                "azdata_cell_guid": "fd5f7ce9-ab69-495e-9b6e-de44f0c46f10"
            }
        }
    ]
}