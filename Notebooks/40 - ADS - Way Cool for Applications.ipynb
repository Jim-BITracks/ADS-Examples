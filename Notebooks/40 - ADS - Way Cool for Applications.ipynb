{
    "metadata": {
        "kernelspec": {
            "name": "SQL",
            "display_name": "SQL",
            "language": "sql"
        },
        "language_info": {
            "name": "sql",
            "version": ""
        }
    },
    "nbformat_minor": 2,
    "nbformat": 4,
    "cells": [
        {
            "cell_type": "markdown",
            "source": [
                "# ADS - Way Cool for Applications \r\n",
                "\r\n",
                "## Why Consider Integrating your Application into ADS?\r\n",
                "\r\n",
                "- Cross Platform by Design\r\n",
                "- Extensions Marketplace\r\n",
                "- Full Intellisense Query Editing\r\n",
                "- Snippets to create a Custom CLI\r\n",
                "- Integrated Dashboards and Visualizations\r\n",
                "- Replace or Complement your Existing User Front-end\r\n",
                "\r\n",
                "> ## Application **Case Study**: eltSnap\r\n",
                "<img src=\"https://user-images.githubusercontent.com/24569174/82090225-2f9f9c80-96c3-11ea-829f-af7392047d7b.png\" width=\"20%\" height=\"auto\">\r\n",
                "\r\n",
                "- Application for Building Data Warehouse\r\n",
                "- Uses EL**T** Patterns (Dataflows *then* Transformations)\r\n",
                "- Uses the SSIS paradigm of Projects, Packages, Connections, and Parameters\r\n",
                "- All configurations are stored in SQL Server (instead of XML and/or Json Files)\r\n",
                "- Uses a Python runtime\r\n",
                "\r\n",
                "![image](https://user-images.githubusercontent.com/24569174/82097536-17367e80-96d1-11ea-9a78-da285681bfa4.png)\r\n",
                "\r\n",
                "\r\n",
                ""
            ],
            "metadata": {
                "azdata_cell_guid": "481e6531-7403-4467-a754-d319f41690a4"
            }
        },
        {
            "cell_type": "markdown",
            "source": [
                "# Database Overview\r\n",
                "(Let's stay in ADS!)\r\n",
                ">## View Database Tables using the Activity & Side Bar\r\n",
                "### Sample Project Data\r\n",
                "- Table: [elt].[package_config_execute_sql] \r\n",
                "- Visualize\r\n",
                "\r\n",
                ">## View Database Tables using the Current Notebook & a Query Window (and Visualize)"
            ],
            "metadata": {
                "azdata_cell_guid": "94d607f8-8deb-4feb-99d4-ac119f1c189d"
            }
        },
        {
            "cell_type": "code",
            "source": [
                "select * from information_schema.tables"
            ],
            "metadata": {
                "azdata_cell_guid": "37456ef2-42ac-4016-a83e-79cf521ab974"
            },
            "outputs": [],
            "execution_count": null
        },
        {
            "cell_type": "markdown",
            "source": [
                ">## View & Create a Project using Windows Front-end\r\n",
                "\r\n",
                ">## View & Create a Project in Current Notebook"
            ],
            "metadata": {
                "azdata_cell_guid": "a7e3bade-8a76-4f52-af5a-799109f2488a"
            }
        },
        {
            "cell_type": "code",
            "source": [
                "--cr...\r\n",
                "select * from elt.project"
            ],
            "metadata": {
                "azdata_cell_guid": "25287f44-01cd-4e50-941f-4081083f46f8"
            },
            "outputs": [],
            "execution_count": null
        },
        {
            "cell_type": "markdown",
            "source": [
                ">## View & Create a Project using a Python Notebook"
            ],
            "metadata": {
                "azdata_cell_guid": "6ac28e31-641d-4bcf-b8a4-d856b735c7bf"
            }
        },
        {
            "cell_type": "markdown",
            "source": [
                ">## View \"Log Clean-up\" Project in Current Notebook"
            ],
            "metadata": {
                "azdata_cell_guid": "3b70cb40-4434-4f5e-8a2a-4b6fc15c0d12"
            }
        },
        {
            "cell_type": "code",
            "source": [
                "SELECT p.[project_name], pp.[sequence_number], pp.[package_name]\r\n",
                "  FROM [elt].[project] p\r\n",
                "  JOIN [elt].[project_package] pp\r\n",
                "    ON p.[project_id] = pp.[project_id]\r\n",
                " WHERE p.[project_name] = 'Log Clean-up'"
            ],
            "metadata": {
                "azdata_cell_guid": "b512690c-15c6-48c5-af16-d8636e9b9c89"
            },
            "outputs": [],
            "execution_count": null
        },
        {
            "cell_type": "markdown",
            "source": [
                "## Running a Project in ADS\r\n",
                ">Step 1 - Open a Terminal Window\r\n",
                "\r\n",
                ">Step 2 - Change to Runtime directory\r\n",
                "``` \r\n",
                "cd C:\\snap\\eltsnap\\python\\eltSnap_runtime_v2\r\n",
                "```\r\n",
                "\r\n",
                ">Step 3 - Copy and Paste Runtime Command for Project in Terminal\r\n",
                "```\r\n",
                "eltsnap_runtime_v2 -server \"localhost\" -database \"eltsnap_v2\" -project \"Log Clean-up\"\r\n",
                "```"
            ],
            "metadata": {
                "azdata_cell_guid": "9b1f1eac-f36f-4a9b-8a24-4ef7645a0283"
            }
        },
        {
            "cell_type": "markdown",
            "source": [
                "## Viewing the Contents of a 'Package'\r\n",
                "- Pattern: Execute SQL\r\n",
                "- Package: ELT_Framework_log_delete"
            ],
            "metadata": {
                "azdata_cell_guid": "38d75738-1f5e-4418-8da7-fe9add4d1835"
            }
        },
        {
            "cell_type": "code",
            "source": [
                "select * from elt.package_config_execute_sql where [package_name] = 'Execute SQL - ELT_Framework_log_delete'"
            ],
            "metadata": {
                "azdata_cell_guid": "6059d126-226c-4af2-b8f9-65af27fcaedb"
            },
            "outputs": [
                {
                    "output_type": "display_data",
                    "data": {
                        "text/html": "(1 row affected)"
                    },
                    "metadata": {}
                },
                {
                    "output_type": "display_data",
                    "data": {
                        "text/html": "Total execution time: 00:00:00.003"
                    },
                    "metadata": {}
                },
                {
                    "output_type": "execute_result",
                    "execution_count": 3,
                    "data": {
                        "application/vnd.dataresource+json": {
                            "schema": {
                                "fields": [
                                    {
                                        "name": "connection_manager"
                                    },
                                    {
                                        "name": "package_qualifier"
                                    },
                                    {
                                        "name": "query"
                                    },
                                    {
                                        "name": "is_expression"
                                    },
                                    {
                                        "name": "return_row_count"
                                    },
                                    {
                                        "name": "package_name"
                                    }
                                ]
                            },
                            "data": [
                                {
                                    "0": "ELT_Framework",
                                    "1": "ELT_Framework_log_delete",
                                    "2": "EXEC [dbo].[Log Delete];",
                                    "3": "0",
                                    "4": "1",
                                    "5": "Execute SQL - ELT_Framework_log_delete"
                                }
                            ]
                        },
                        "text/html": "<table><tr><th>connection_manager</th><th>package_qualifier</th><th>query</th><th>is_expression</th><th>return_row_count</th><th>package_name</th></tr><tr><td>ELT_Framework</td><td>ELT_Framework_log_delete</td><td>EXEC [dbo].[Log Delete];</td><td>0</td><td>1</td><td>Execute SQL - ELT_Framework_log_delete</td></tr></table>"
                    },
                    "metadata": {}
                }
            ],
            "execution_count": 3
        },
        {
            "cell_type": "markdown",
            "source": [
                "## Editing a Package in ADS (using Native SQL Editor)\r\n",
                ">Step 1 - Open a New Query on the Connection where you want to Run (Package: lz to ods motor_vehicle_collisions)\r\n",
                "\r\n",
                ">Step 2 - Retrieve a Package Query using the Command Palette\r\n",
                "\r\n",
                ">Step 3 - Make Changes in SQL Editor\r\n",
                "\r\n",
                ">Step 4 - Save Package Query using the Command Palette\r\n",
                "\r\n",
                ">Step 5 - Verify changes in Current Notebook\r\n",
                "\r\n",
                "## Editing a Package with parameters in ADS"
            ],
            "metadata": {
                "azdata_cell_guid": "d3f733e9-9229-44dd-a47c-4c040df4354a"
            }
        },
        {
            "cell_type": "code",
            "source": [
                "select * from elt.package_config_execute_sql where [package_name] = 'Execute SQL - Delete metadata rows for server'"
            ],
            "metadata": {
                "azdata_cell_guid": "79a9fda7-d731-4b63-8604-960641d7c368"
            },
            "outputs": [
                {
                    "output_type": "display_data",
                    "data": {
                        "text/html": "(1 row affected)"
                    },
                    "metadata": {}
                },
                {
                    "output_type": "display_data",
                    "data": {
                        "text/html": "Total execution time: 00:00:00.010"
                    },
                    "metadata": {}
                },
                {
                    "output_type": "execute_result",
                    "metadata": {},
                    "execution_count": 1,
                    "data": {
                        "application/vnd.dataresource+json": {
                            "schema": {
                                "fields": [
                                    {
                                        "name": "connection_manager"
                                    },
                                    {
                                        "name": "package_qualifier"
                                    },
                                    {
                                        "name": "query"
                                    },
                                    {
                                        "name": "is_expression"
                                    },
                                    {
                                        "name": "return_row_count"
                                    },
                                    {
                                        "name": "package_name"
                                    }
                                ]
                            },
                            "data": [
                                {
                                    "0": "eltsnap",
                                    "1": "Delete metadata rows for server",
                                    "2": "\r\nDECLARE @rows AS INT = 0;\r\n\r\nDELETE FROM [stg].[dim_database] WHERE [server_name] = '@[$Project::Metadata_Server_Name]';\r\nSET @rows = @rows + @@ROWCOUNT\r\n\r\nDELETE FROM [stg].[dim_table]    WHERE [server_name] = '@[$Project::Metadata_Server_Name]';\r\nSET @rows = @rows + @@ROWCOUNT\r\n\r\nDELETE FROM [stg].[dim_column]   WHERE [server_name] = '@[$Project::Metadata_Server_Name]';\r\nSET @rows = @rows + @@ROWCOUNT\r\n\r\nDELETE FROM [stg].[dim_column]   WHERE [server_name] = '@[$Project::Metadata_Server_Name]';\r\nSET @rows = @rows + @@ROWCOUNT\r\n\r\nSELECT @rows AS [row_count];\r\n",
                                    "3": "1",
                                    "4": "1",
                                    "5": "Execute SQL - Delete metadata rows for server"
                                }
                            ]
                        },
                        "text/html": [
                            "<table>",
                            "<tr><th>connection_manager</th><th>package_qualifier</th><th>query</th><th>is_expression</th><th>return_row_count</th><th>package_name</th></tr>",
                            "<tr><td>eltsnap</td><td>Delete metadata rows for server</td><td>\r\nDECLARE @rows AS INT = 0;\r\n\r\nDELETE FROM [stg].[dim_database] WHERE [server_name] = '@[$Project::Metadata_Server_Name]';\r\nSET @rows = @rows + @@ROWCOUNT\r\n\r\nDELETE FROM [stg].[dim_table]    WHERE [server_name] = '@[$Project::Metadata_Server_Name]';\r\nSET @rows = @rows + @@ROWCOUNT\r\n\r\nDELETE FROM [stg].[dim_column]   WHERE [server_name] = '@[$Project::Metadata_Server_Name]';\r\nSET @rows = @rows + @@ROWCOUNT\r\n\r\nDELETE FROM [stg].[dim_column]   WHERE [server_name] = '@[$Project::Metadata_Server_Name]';\r\nSET @rows = @rows + @@ROWCOUNT\r\n\r\nSELECT @rows AS [row_count];\r\n</td><td>1</td><td>1</td><td>Execute SQL - Delete metadata rows for server</td></tr>",
                            "</table>"
                        ]
                    }
                }
            ],
            "execution_count": 1
        },
        {
            "cell_type": "markdown",
            "source": [
                ">Step 1 - View in HTML Document\r\n",
                "\r\n",
                ">Step 2 - Retrieve a Package Query using the Command Palette\r\n",
                "\r\n",
                ">Step 3 - Make Changes in SQL Editor\r\n",
                "\r\n",
                ">Step 4 - Refresh and View in HTML Document"
            ],
            "metadata": {
                "azdata_cell_guid": "993b8319-a4dd-4544-8ea0-a3b05ec74e08"
            }
        },
        {
            "cell_type": "markdown",
            "source": [
                "## View Data Connections"
            ],
            "metadata": {
                "azdata_cell_guid": "75077ba6-3b56-41d6-88f5-f2908effb77a"
            }
        },
        {
            "cell_type": "code",
            "source": [
                "select * from elt.oledb_connection"
            ],
            "metadata": {
                "azdata_cell_guid": "d90a8b02-48bb-4613-b9f0-6cee0e0c2b83"
            },
            "outputs": [
                {
                    "output_type": "display_data",
                    "data": {
                        "text/html": "(9 rows affected)"
                    },
                    "metadata": {}
                },
                {
                    "output_type": "display_data",
                    "data": {
                        "text/html": "Total execution time: 00:00:00.012"
                    },
                    "metadata": {}
                },
                {
                    "output_type": "execute_result",
                    "metadata": {},
                    "execution_count": 2,
                    "data": {
                        "application/vnd.dataresource+json": {
                            "schema": {
                                "fields": [
                                    {
                                        "name": "connection_name"
                                    },
                                    {
                                        "name": "server_name"
                                    },
                                    {
                                        "name": "database_name"
                                    },
                                    {
                                        "name": "provider"
                                    },
                                    {
                                        "name": "custom_connect_string"
                                    },
                                    {
                                        "name": "connection_expression"
                                    },
                                    {
                                        "name": "connection_expression_ado"
                                    }
                                ]
                            },
                            "data": [
                                {
                                    "0": "bitracks-repos bimlsnap_v2",
                                    "1": "localhost",
                                    "2": "bimlsnap_v2",
                                    "3": "SQL Server Native Client 11.0",
                                    "4": "azureSQL-bimlsnap-v2-keyvault-string",
                                    "5": "@[$Project::bitracks-repos bimlsnap_v2_ConnectString]",
                                    "6": "@[$Project::bitracks-repos bimlsnap_v2_ConnectString]"
                                },
                                {
                                    "0": "bitracks-repos elt_framework",
                                    "1": "localhost",
                                    "2": "elt_framework",
                                    "3": "SQL Server Native Client 11.0",
                                    "4": "azureSQL-elt-framework-keyvault-string",
                                    "5": "@[$Project::bitracks-repos elt_framework_ConnectString]",
                                    "6": "@[$Project::bitracks-repos elt_framework_ConnectString]"
                                },
                                {
                                    "0": "bitracks-repos eltsnap_v2",
                                    "1": "localhost",
                                    "2": "eltsnap_v2",
                                    "3": "SQL Server Native Client 11.0",
                                    "4": "azureSQL-eltsnap-v2-keyvault-string",
                                    "5": "@[$Project::bitracks-repos eltsnap_v2_ConnectString]",
                                    "6": "@[$Project::bitracks-repos eltsnap_v2_ConnectString]"
                                },
                                {
                                    "0": "bitracks-repos master",
                                    "1": "localhost",
                                    "2": "master",
                                    "3": "SQL Server Native Client 11.0",
                                    "4": "azure-SQL-master-kevault-string",
                                    "5": "@[$Project::bitracks-repos master_ConnectString]",
                                    "6": "@[$Project::bitracks-repos master_ConnectString]"
                                },
                                {
                                    "0": "ELT_Framework",
                                    "1": "localhost",
                                    "2": "ELT_Framework",
                                    "3": "SQL Server Native Client 11.0",
                                    "4": "",
                                    "5": "\"DRIVER={\" + @[$Project::ELT_Framework_Provider] + \"};SERVER=\" + @[$Project::ELT_Framework_Server] + \";DATABASE=\" + @[$Project::ELT_Framework_Database]  + \";Trusted_Connection=Yes\"",
                                    "6": "\"Data Source=\" + @[$Project::ELT_Framework_Server] + \";Initial Catalog=\" + @[$Project::ELT_Framework_Database] + \";Integrated Security=True\""
                                },
                                {
                                    "0": "eltsnap",
                                    "1": "localhost",
                                    "2": "eltsnap_v2",
                                    "3": "SQL Server Native Client 11.0",
                                    "4": "",
                                    "5": "\"DRIVER={\" + @[$Project::eltsnap_Provider] + \"};SERVER=\" + @[$Project::eltsnap_Server] + \";DATABASE=\" + @[$Project::eltsnap_Database]  + \";Trusted_Connection=Yes\"",
                                    "6": "\"Data Source=\" + @[$Project::eltsnap_Server] + \";Initial Catalog=\" + @[$Project::eltsnap_Database] + \";Integrated Security=True\""
                                },
                                {
                                    "0": "PostgreSQL",
                                    "1": "localhost",
                                    "2": "postgres",
                                    "3": "SQL Server Native Client 11.0",
                                    "4": "Provider=MSDASQL.1;Extended Properties=\"DSN=VMWX02;Uid=postgres;Pwd=12345\"",
                                    "5": "@[$Project::PostgreSQL_ConnectString]",
                                    "6": "@[$Project::PostgreSQL_ConnectString]"
                                },
                                {
                                    "0": "snowflake demo",
                                    "1": "localhost",
                                    "2": "test",
                                    "3": "SQL Server Native Client 11.0",
                                    "4": "DSN=snowflake-demo",
                                    "5": "@[$Project::snowflake demo_ConnectString]",
                                    "6": "@[$Project::snowflake demo_ConnectString]"
                                },
                                {
                                    "0": "SQL_Server",
                                    "1": "localhost",
                                    "2": "master",
                                    "3": "SQL Server Native Client 11.0",
                                    "4": "",
                                    "5": "\"DRIVER={\" + @[$Project::SQL_Server_Provider] + \"};SERVER=\" + @[$Project::SQL_Server_Server] + \";DATABASE=\" + @[$Project::SQL_Server_Database]  + \";Trusted_Connection=Yes\"",
                                    "6": "\"Data Source=\" + @[$Project::SQL_Server_Server] + \";Initial Catalog=\" + @[$Project::SQL_Server_Database] + \";Integrated Security=True\""
                                }
                            ]
                        },
                        "text/html": [
                            "<table>",
                            "<tr><th>connection_name</th><th>server_name</th><th>database_name</th><th>provider</th><th>custom_connect_string</th><th>connection_expression</th><th>connection_expression_ado</th></tr>",
                            "<tr><td>bitracks-repos bimlsnap_v2</td><td>localhost</td><td>bimlsnap_v2</td><td>SQL Server Native Client 11.0</td><td>azureSQL-bimlsnap-v2-keyvault-string</td><td>@[$Project::bitracks-repos bimlsnap_v2_ConnectString]</td><td>@[$Project::bitracks-repos bimlsnap_v2_ConnectString]</td></tr>",
                            "<tr><td>bitracks-repos elt_framework</td><td>localhost</td><td>elt_framework</td><td>SQL Server Native Client 11.0</td><td>azureSQL-elt-framework-keyvault-string</td><td>@[$Project::bitracks-repos elt_framework_ConnectString]</td><td>@[$Project::bitracks-repos elt_framework_ConnectString]</td></tr>",
                            "<tr><td>bitracks-repos eltsnap_v2</td><td>localhost</td><td>eltsnap_v2</td><td>SQL Server Native Client 11.0</td><td>azureSQL-eltsnap-v2-keyvault-string</td><td>@[$Project::bitracks-repos eltsnap_v2_ConnectString]</td><td>@[$Project::bitracks-repos eltsnap_v2_ConnectString]</td></tr>",
                            "<tr><td>bitracks-repos master</td><td>localhost</td><td>master</td><td>SQL Server Native Client 11.0</td><td>azure-SQL-master-kevault-string</td><td>@[$Project::bitracks-repos master_ConnectString]</td><td>@[$Project::bitracks-repos master_ConnectString]</td></tr>",
                            "<tr><td>ELT_Framework</td><td>localhost</td><td>ELT_Framework</td><td>SQL Server Native Client 11.0</td><td></td><td>&quot;DRIVER={&quot; + @[$Project::ELT_Framework_Provider] + &quot;};SERVER=&quot; + @[$Project::ELT_Framework_Server] + &quot;;DATABASE=&quot; + @[$Project::ELT_Framework_Database]  + &quot;;Trusted_Connection=Yes&quot;</td><td>&quot;Data Source=&quot; + @[$Project::ELT_Framework_Server] + &quot;;Initial Catalog=&quot; + @[$Project::ELT_Framework_Database] + &quot;;Integrated Security=True&quot;</td></tr>",
                            "<tr><td>eltsnap</td><td>localhost</td><td>eltsnap_v2</td><td>SQL Server Native Client 11.0</td><td></td><td>&quot;DRIVER={&quot; + @[$Project::eltsnap_Provider] + &quot;};SERVER=&quot; + @[$Project::eltsnap_Server] + &quot;;DATABASE=&quot; + @[$Project::eltsnap_Database]  + &quot;;Trusted_Connection=Yes&quot;</td><td>&quot;Data Source=&quot; + @[$Project::eltsnap_Server] + &quot;;Initial Catalog=&quot; + @[$Project::eltsnap_Database] + &quot;;Integrated Security=True&quot;</td></tr>",
                            "<tr><td>PostgreSQL</td><td>localhost</td><td>postgres</td><td>SQL Server Native Client 11.0</td><td>Provider=MSDASQL.1;Extended Properties=&quot;DSN=VMWX02;Uid=postgres;Pwd=12345&quot;</td><td>@[$Project::PostgreSQL_ConnectString]</td><td>@[$Project::PostgreSQL_ConnectString]</td></tr>",
                            "<tr><td>snowflake demo</td><td>localhost</td><td>test</td><td>SQL Server Native Client 11.0</td><td>DSN=snowflake-demo</td><td>@[$Project::snowflake demo_ConnectString]</td><td>@[$Project::snowflake demo_ConnectString]</td></tr>",
                            "<tr><td>SQL_Server</td><td>localhost</td><td>master</td><td>SQL Server Native Client 11.0</td><td></td><td>&quot;DRIVER={&quot; + @[$Project::SQL_Server_Provider] + &quot;};SERVER=&quot; + @[$Project::SQL_Server_Server] + &quot;;DATABASE=&quot; + @[$Project::SQL_Server_Database]  + &quot;;Trusted_Connection=Yes&quot;</td><td>&quot;Data Source=&quot; + @[$Project::SQL_Server_Server] + &quot;;Initial Catalog=&quot; + @[$Project::SQL_Server_Database] + &quot;;Integrated Security=True&quot;</td></tr>",
                            "</table>"
                        ]
                    }
                }
            ],
            "execution_count": 2
        },
        {
            "cell_type": "markdown",
            "source": [
                ">## Add a connection with Python Snippet"
            ],
            "metadata": {
                "azdata_cell_guid": "0ba255a3-097c-4589-a0eb-3b9f719a9808"
            }
        }
    ]
}