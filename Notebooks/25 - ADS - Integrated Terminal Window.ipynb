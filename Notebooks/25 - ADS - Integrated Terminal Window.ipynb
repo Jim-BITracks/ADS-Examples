{
    "metadata": {
        "kernelspec": {
            "name": "SQL",
            "display_name": "SQL",
            "language": "sql"
        },
        "language_info": {
            "name": "sql",
            "version": ""
        }
    },
    "nbformat_minor": 2,
    "nbformat": 4,
    "cells": [
        {
            "cell_type": "markdown",
            "source": [
                "# Azure Data Studio - Integrated Terminal Window\r\n",
                "### Interface for Command Prompt, PowerShell, and other CLI Tools\r\n",
                ">Step 1 - Run in 'Powershell' Terminal\r\n",
                "```PowerShell\r\n",
                "PowerShell\r\n",
                "Invoke-Sqlcmd -Query \"select * from INFORMATION_SCHEMA.TABLES\" -ServerInstance \"localhost\" -Database \"eltsnap_v2\"\r\n",
                "```\r\n",
                ">Step 2 - Run the same query with Export to HTML\r\n",
                "```PowerShell\r\n",
                "Invoke-Sqlcmd -Query \"select * from INFORMATION_SCHEMA.TABLES\" -ServerInstance \"localhost\" -Database \"eltsnap_v2\" | convertto-html > table_list.htm\r\n",
                "Invoke-Item $$\r\n",
                "```"
            ],
            "metadata": {
                "azdata_cell_guid": "0330b0a2-188a-43e7-849d-df60a0b0f353"
            }
        },
        {
            "cell_type": "markdown",
            "source": [
                "## Demo - PowerShell Notebook"
            ],
            "metadata": {
                "azdata_cell_guid": "fe9aa43d-c780-4f8f-b828-c6d97c32cfaa"
            }
        }
    ]
}