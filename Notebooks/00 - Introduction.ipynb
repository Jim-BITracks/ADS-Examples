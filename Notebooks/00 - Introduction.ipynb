{
    "metadata": {
        "kernelspec": {
            "name": "SQL",
            "display_name": "SQL",
            "language": "sql"
        },
        "language_info": {
            "name": "sql",
            "version": ""
        }
    },
    "nbformat_minor": 2,
    "nbformat": 4,
    "cells": [
        {
            "cell_type": "markdown",
            "source": [
                "![image](https://user-images.githubusercontent.com/24569174/82096113-5e6f4000-96ce-11ea-8726-58e13113a079.png)\r\n",
                "\r\n",
                "![image](https://user-images.githubusercontent.com/24569174/82095939-13edc380-96ce-11ea-981d-1308db90b9c9.png)\r\n",
                "\r\n",
                "## What I've been doing...\r\n",
                "Jim has worked in many facets of the IT business for almost 40 years, with a more recent focus on data warehousing, data integration, reporting and analytics, business intelligence, ELT/ETL frameworks, and database performance tuning. In previous engagements, Jim has fulfilled roles as Data Architect, DBA, IT Director, and Senior Consultant. Jim has also had some extraordinary opportunities to lead IT organizations, with multi-national participants, on reconstruction projects based in Bosnia as part of the Dayton Peace Agreement, and in Iraq with the US Department of State.\r\n",
                "\r\n",
                "Specialties: ELT/ETL Development - Powered by EltSnap/BimlSnap (www.bitracks.com), Microsoft SQL Server, and the snowflake cloud data warehouse platform \r\n",
                "\r\n",
                "> Our Website: [BI Tracks](https://www.bitracks.com/)\r\n",
                "\r\n",
                "# Why this session on Azure Data Studio?\r\n",
                "\r\n",
                "![image](https://user-images.githubusercontent.com/24569174/82118333-a5981800-9744-11ea-8815-814ada085bc3.png)\r\n",
                "\r\n",
                "- Happily using SSMS for 15 years\r\n",
                "- Attended serveral ADS sessions at PASS Summit\r\n",
                "- Life will never be the same!\r\n",
                "- Hat-tip to:\r\n",
                "    - Rob Sewell\r\n",
                "    - Drew Skwiers-Koballa\r\n",
                "    - Warwick Rudd\r\n",
                "    - Daniel de Sousa\r\n",
                "\r\n",
                "# About this Presentation\r\n",
                "- Exclusively using Azure Data Studio (No PowerPoint)\r\n",
                "- All Notebooks can be Viewed, Downloaded, or Cloned from Github: \r\n",
                "- https://github.com/Jim-BITracks/SQL_Sat_Cincinnati_2020.git\r\n",
                "\r\n",
                "![image](https://user-images.githubusercontent.com/24569174/82119590-cc0e8100-974d-11ea-8810-27dfc4633670.png)\r\n",
                "\r\n",
                "\r\n",
                ""
            ],
            "metadata": {
                "azdata_cell_guid": "fd5f7ce9-ab69-495e-9b6e-de44f0c46f10"
            }
        }
    ]
}